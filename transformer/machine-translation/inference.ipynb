{
 "cells": [
  {
   "cell_type": "code",
   "execution_count": null,
   "metadata": {},
   "outputs": [],
   "source": [
    "import torch\n",
    "\n",
    "from data import tokenize, batch_decode\n",
    "from model import Transformer\n",
    "\n",
    "sos_token_id = 101\n",
    "eos_token_id = 102\n",
    "\n",
    "num_sequences = 24\n",
    "h_dim = 768\n",
    "vocab_size = 119547\n",
    "checkpoint_path = \"checkpoint_model.pt\"\n",
    "\n",
    "device = torch.device(\"cuda:0\")\n",
    "checkpoint = torch.load(checkpoint_path, map_location=device, weights_only=True)\n",
    "model = Transformer(h_dim, num_sequences, vocab_size).to(device)\n",
    "model.load_state_dict(checkpoint)\n",
    "\n",
    "input_text = \"Thank you for gladly accepting the invitation.\"\n",
    "answer = \"당신이 초청에 흔쾌히 응해 주셔서 감사합니다.\"\n",
    "\n",
    "with torch.no_grad():\n",
    "    src_token = tokenize(input_text, num_sequences)\n",
    "    src_token = src_token.to(device)\n",
    "    tgt_token = torch.tensor([[sos_token_id]], dtype=torch.long)\n",
    "    tgt_token = tgt_token.to(device)\n",
    "\n",
    "    for _ in range(num_sequences - 1):\n",
    "        logits = model(src_token, tgt_token)[:, -1, :]\n",
    "        next_token = logits.softmax(-1).argmax(-1).unsqueeze(0)\n",
    "        tgt_token = torch.cat([tgt_token, next_token], dim=-1)\n",
    "        if next_token == eos_token_id:\n",
    "            break\n",
    "\n",
    "print(tgt_token)\n",
    "output_texts = batch_decode(tgt_token.detach())\n",
    "print(output_texts)"
   ]
  }
 ],
 "metadata": {
  "kernelspec": {
   "display_name": "study",
   "language": "python",
   "name": "python3"
  },
  "language_info": {
   "codemirror_mode": {
    "name": "ipython",
    "version": 3
   },
   "file_extension": ".py",
   "mimetype": "text/x-python",
   "name": "python",
   "nbconvert_exporter": "python",
   "pygments_lexer": "ipython3",
   "version": "3.11.9"
  }
 },
 "nbformat": 4,
 "nbformat_minor": 2
}
